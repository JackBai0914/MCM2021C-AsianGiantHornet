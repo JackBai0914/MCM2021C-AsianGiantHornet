{
 "cells": [
  {
   "cell_type": "code",
   "execution_count": 18,
   "id": "elder-anchor",
   "metadata": {},
   "outputs": [],
   "source": [
    "n = 3174\n",
    "dat = genfromtxt('../data/adj.csv',delimiter = ',')\n",
    "observ = np.array([1,1,0,0,1,1,0])"
   ]
  },
  {
   "cell_type": "code",
   "execution_count": 11,
   "id": "constitutional-corruption",
   "metadata": {},
   "outputs": [],
   "source": [
    "import numpy as np\n",
    "from numpy import genfromtxt\n",
    "transition_probability = dat\n",
    "emission_probability = np.zeros([n,2])\n",
    "p = 0.9\n",
    "for i in range(n):\n",
    "    emission_probability[i,0] = p\n",
    "    emission_probability[i,1] = 1-p"
   ]
  },
  {
   "cell_type": "code",
   "execution_count": 13,
   "id": "cooperative-message",
   "metadata": {},
   "outputs": [],
   "source": [
    "def HMMfilter(y, nu, Q, g):\n",
    "  n = y.size\n",
    "  k = Q.shape[0]\n",
    "  phi = np.zeros([k, n])\n",
    "  c = np.zeros(n)\n",
    "  \n",
    "  Z = nu * g[:, y[0]]\n",
    "  c[0] = sum(Z)\n",
    "  phi[:,0] = Z/c[0]\n",
    "  \n",
    "  for t in range(1,n):\n",
    "    Z = np.dot(phi[:, t-1], Q) * g[:, y[t]];\n",
    "    c[t] = sum(Z)\n",
    "    phi[:, t] = Z / c[t]\n",
    "  \n",
    "  return (phi,c)\n",
    "\n",
    "\n",
    "def HMMsmoother(y, Q, g, c):\n",
    "  n = y.size\n",
    "  beta = np.ones([Q.shape[0], n])\n",
    "  for t in range(n-2, -1, -1):\n",
    "    beta[:,t] = np.dot(Q, g[:, y[t+1]] * beta[:, t+1]) / c[t+1]\n",
    "  return beta\n",
    "\n",
    "def HMMbaumwelch(y, nu, tol=1e-4, maxIt = 100):\n",
    "  #global myfilter, mysmoother # should be either HMMfilter/HMMsmoother, or HMM_C.HMMfilter/HMM_C.HMMsmoother\n",
    "  k = nu.size; r = 1+max(y); n = y.size\n",
    "  Y = np.zeros([n, r]); \n",
    "  Y[range(n), np.int_(y)] = 1;\n",
    "# global var\n",
    "  Q = transition_probability\n",
    "  g = emission_probability\n",
    "# ##\n",
    "  for j in range(k):\n",
    "    Q[j,:] = Q[j,:] / sum(Q[j,:])\n",
    "    g[j,:] = g[j,:] / sum(g[j,:])\n",
    "  it = 0; oldQ = Q; oldg = g + tol +1\n",
    "  \n",
    "  while (sum(sum(abs(oldQ[:]-Q[:]))) + sum(sum(abs(oldg-g))) > tol) & (it<maxIt):\n",
    "    it+=1\n",
    "    (phi, c) = HMMfilter(y, nu, Q, g)\n",
    "    beta = HMMsmoother(y, Q, g, c)\n",
    "    post = phi * beta\n",
    "    N = Q * (np.dot(phi[:, 0:-1], np.transpose(beta[:, 1:]*g[:, np.int_(y[1:])]/np.tile(c[1:], [k, 1]))))\n",
    "    M = np.dot(post, Y)\n",
    "\n",
    "    oldQ = Q.copy(); oldg = g.copy()\n",
    "    for j in range(k):\n",
    "      Q[j,:] = N[j,:] / sum(N[j,:])\n",
    "      g[j,:] = M[j,:] / sum(M[j,:])\n",
    "  l = sum(np.log(c))\n",
    "  return (Q, g, l)"
   ]
  },
  {
   "cell_type": "code",
   "execution_count": null,
   "id": "divine-central",
   "metadata": {},
   "outputs": [],
   "source": [
    "y = np.asarray(observ)\n",
    "s =  2803\n",
    "start_probability = np.zeros([n])\n",
    "start_probability[s] = 1\n",
    "#start_probability = np.matrix(start_probability).reshape([-1,1])\n",
    "#start_probability = start_probability.reshape([-1,1])\n",
    "\n",
    "nu = start_probability\n",
    "Q,g,l = HMMbaumwelch(y, nu, tol=1e-4, maxIt = 100)"
   ]
  }
 ],
 "metadata": {
  "kernelspec": {
   "display_name": "Python 3",
   "language": "python",
   "name": "python3"
  },
  "language_info": {
   "codemirror_mode": {
    "name": "ipython",
    "version": 3
   },
   "file_extension": ".py",
   "mimetype": "text/x-python",
   "name": "python",
   "nbconvert_exporter": "python",
   "pygments_lexer": "ipython3",
   "version": "3.8.3"
  }
 },
 "nbformat": 4,
 "nbformat_minor": 5
}
