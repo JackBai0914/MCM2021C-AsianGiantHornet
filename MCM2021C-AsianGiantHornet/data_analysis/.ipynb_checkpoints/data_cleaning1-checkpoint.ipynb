{
 "cells": [
  {
   "cell_type": "code",
   "execution_count": 1,
   "id": "second-therapy",
   "metadata": {},
   "outputs": [],
   "source": [
    "import pandas as pd"
   ]
  },
  {
   "cell_type": "code",
   "execution_count": 5,
   "id": "advised-ability",
   "metadata": {},
   "outputs": [],
   "source": [
    "image = pd.read_excel('images_id.xlsx')\n",
    "dataset = pd.read_excel('dataset.xlsx')"
   ]
  },
  {
   "cell_type": "code",
   "execution_count": 72,
   "id": "formed-major",
   "metadata": {},
   "outputs": [],
   "source": [
    "image = image.sort_values(by=\"GlobalID\")\n",
    "dataset = dataset.sort_values(by=\"GlobalID\")\n",
    "for i in range (12):\n",
    "    dataset['image' + str(i)] = \"null\"\n",
    "# image = image.set_index(['GlobalID'])\n",
    "# dataset = dataset.set_index(['GlobalID'])"
   ]
  },
  {
   "cell_type": "code",
   "execution_count": 67,
   "id": "going-backup",
   "metadata": {},
   "outputs": [
    {
     "name": "stdout",
     "output_type": "stream",
     "text": [
      "<class 'pandas.core.series.Series'>\n"
     ]
    }
   ],
   "source": [
    "# i = '{00612178-7CAE-4EC8-9D15-8C5F151890F8}'\n",
    "# if i in image.index:\n",
    "#     x = image.loc[i]\n",
    "#     print(type(x))\n",
    "# #     print(x)"
   ]
  },
  {
   "cell_type": "code",
   "execution_count": 95,
   "id": "moral-warner",
   "metadata": {},
   "outputs": [
    {
     "name": "stdout",
     "output_type": "stream",
     "text": [
      "tot suc:  3111\n"
     ]
    }
   ],
   "source": [
    "suc = 0\n",
    "mx = 0\n",
    "\n",
    "for i, ds in dataset.iterrows():\n",
    "    cnt = 0\n",
    "    if i in image.index:\n",
    "#         print(dataset[i])\n",
    "        subimage = image.loc[i]\n",
    "        if isinstance(subimage, pd.core.series.Series):\n",
    "            if subimage['FileType'] == 'image/jpg' and int(subimage['Detection Date:'][0:4]) >= 2018:\n",
    "                cnt += 1\n",
    "                mx = max (mx, cnt)\n",
    "#                 ds[\"image\" + str(cnt)] = subimage['FileName']\n",
    "                dataset.at[i, \"image\" + str(cnt)] = subimage['FileName']\n",
    "#                 print(ds[\"image\" + str(cnt)], \" to \", dataset.loc[i][\"image\" + str(cnt)])\n",
    "                suc += 1\n",
    "        else:\n",
    "            for j, im in subimage.iterrows():\n",
    "#                 print(dataset[i])\n",
    "                if im['FileType'] == 'image/jpg':\n",
    "                    cnt += 1\n",
    "                    mx = max (mx, cnt)\n",
    "#                     ds[\"image\" + str(cnt)] = im['FileName']\n",
    "                    dataset.at[i, \"image\" + str(cnt)] = im['FileName']\n",
    "#                     print(ds[\"image\" + str(cnt)], \" to \", dataset.loc[i][\"image\" + str(cnt)])\n",
    "                    suc += 1\n",
    "        \n",
    "    \n",
    "print('tot suc: ', suc)\n",
    "            "
   ]
  },
  {
   "cell_type": "code",
   "execution_count": 97,
   "id": "discrete-master",
   "metadata": {},
   "outputs": [],
   "source": [
    "dataset.to_csv('dateset_merged.csv')\n",
    "# image"
   ]
  }
 ],
 "metadata": {
  "kernelspec": {
   "display_name": "Python 3",
   "language": "python",
   "name": "python3"
  },
  "language_info": {
   "codemirror_mode": {
    "name": "ipython",
    "version": 3
   },
   "file_extension": ".py",
   "mimetype": "text/x-python",
   "name": "python",
   "nbconvert_exporter": "python",
   "pygments_lexer": "ipython3",
   "version": "3.8.3"
  }
 },
 "nbformat": 4,
 "nbformat_minor": 5
}
